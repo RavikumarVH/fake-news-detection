{
 "cells": [
  {
   "cell_type": "code",
   "execution_count": 1,
   "id": "14653ae9",
   "metadata": {},
   "outputs": [],
   "source": [
    "#load packages\n",
    "import re\n",
    "import numpy as np\n",
    "import pandas as pd\n",
    "import matplotlib.pyplot as plt\n",
    "import seaborn as sns\n",
    "\n",
    "from sklearn.model_selection import train_test_split\n",
    "from sklearn.feature_extraction.text import TfidfVectorizer, CountVectorizer\n",
    "from sklearn.linear_model import PassiveAggressiveClassifier\n",
    "from sklearn.svm import LinearSVC\n",
    "from sklearn.ensemble import RandomForestClassifier\n",
    "from sklearn.metrics import accuracy_score, confusion_matrix,classification_report"
   ]
  },
  {
   "cell_type": "code",
   "execution_count": 2,
   "id": "106cb11f",
   "metadata": {},
   "outputs": [],
   "source": [
    "#load datasets\n",
    "df = pd.read_csv(\"news.csv\")"
   ]
  },
  {
   "cell_type": "code",
   "execution_count": 3,
   "id": "fe69c4cd",
   "metadata": {},
   "outputs": [
    {
     "data": {
      "text/html": [
       "<div>\n",
       "<style scoped>\n",
       "    .dataframe tbody tr th:only-of-type {\n",
       "        vertical-align: middle;\n",
       "    }\n",
       "\n",
       "    .dataframe tbody tr th {\n",
       "        vertical-align: top;\n",
       "    }\n",
       "\n",
       "    .dataframe thead th {\n",
       "        text-align: right;\n",
       "    }\n",
       "</style>\n",
       "<table border=\"1\" class=\"dataframe\">\n",
       "  <thead>\n",
       "    <tr style=\"text-align: right;\">\n",
       "      <th></th>\n",
       "      <th>Unnamed: 0</th>\n",
       "      <th>title</th>\n",
       "      <th>text</th>\n",
       "      <th>label</th>\n",
       "    </tr>\n",
       "  </thead>\n",
       "  <tbody>\n",
       "    <tr>\n",
       "      <th>0</th>\n",
       "      <td>8476</td>\n",
       "      <td>You Can Smell Hillary’s Fear</td>\n",
       "      <td>Daniel Greenfield, a Shillman Journalism Fello...</td>\n",
       "      <td>FAKE</td>\n",
       "    </tr>\n",
       "    <tr>\n",
       "      <th>1</th>\n",
       "      <td>10294</td>\n",
       "      <td>Watch The Exact Moment Paul Ryan Committed Pol...</td>\n",
       "      <td>Google Pinterest Digg Linkedin Reddit Stumbleu...</td>\n",
       "      <td>FAKE</td>\n",
       "    </tr>\n",
       "    <tr>\n",
       "      <th>2</th>\n",
       "      <td>3608</td>\n",
       "      <td>Kerry to go to Paris in gesture of sympathy</td>\n",
       "      <td>U.S. Secretary of State John F. Kerry said Mon...</td>\n",
       "      <td>REAL</td>\n",
       "    </tr>\n",
       "    <tr>\n",
       "      <th>3</th>\n",
       "      <td>10142</td>\n",
       "      <td>Bernie supporters on Twitter erupt in anger ag...</td>\n",
       "      <td>— Kaydee King (@KaydeeKing) November 9, 2016 T...</td>\n",
       "      <td>FAKE</td>\n",
       "    </tr>\n",
       "    <tr>\n",
       "      <th>4</th>\n",
       "      <td>875</td>\n",
       "      <td>The Battle of New York: Why This Primary Matters</td>\n",
       "      <td>It's primary day in New York and front-runners...</td>\n",
       "      <td>REAL</td>\n",
       "    </tr>\n",
       "  </tbody>\n",
       "</table>\n",
       "</div>"
      ],
      "text/plain": [
       "   Unnamed: 0                                              title  \\\n",
       "0        8476                       You Can Smell Hillary’s Fear   \n",
       "1       10294  Watch The Exact Moment Paul Ryan Committed Pol...   \n",
       "2        3608        Kerry to go to Paris in gesture of sympathy   \n",
       "3       10142  Bernie supporters on Twitter erupt in anger ag...   \n",
       "4         875   The Battle of New York: Why This Primary Matters   \n",
       "\n",
       "                                                text label  \n",
       "0  Daniel Greenfield, a Shillman Journalism Fello...  FAKE  \n",
       "1  Google Pinterest Digg Linkedin Reddit Stumbleu...  FAKE  \n",
       "2  U.S. Secretary of State John F. Kerry said Mon...  REAL  \n",
       "3  — Kaydee King (@KaydeeKing) November 9, 2016 T...  FAKE  \n",
       "4  It's primary day in New York and front-runners...  REAL  "
      ]
     },
     "execution_count": 3,
     "metadata": {},
     "output_type": "execute_result"
    }
   ],
   "source": [
    "df.head()"
   ]
  },
  {
   "cell_type": "code",
   "execution_count": 4,
   "id": "3ad653d7",
   "metadata": {},
   "outputs": [
    {
     "data": {
      "text/html": [
       "<div>\n",
       "<style scoped>\n",
       "    .dataframe tbody tr th:only-of-type {\n",
       "        vertical-align: middle;\n",
       "    }\n",
       "\n",
       "    .dataframe tbody tr th {\n",
       "        vertical-align: top;\n",
       "    }\n",
       "\n",
       "    .dataframe thead th {\n",
       "        text-align: right;\n",
       "    }\n",
       "</style>\n",
       "<table border=\"1\" class=\"dataframe\">\n",
       "  <thead>\n",
       "    <tr style=\"text-align: right;\">\n",
       "      <th></th>\n",
       "      <th>Unnamed: 0</th>\n",
       "    </tr>\n",
       "  </thead>\n",
       "  <tbody>\n",
       "    <tr>\n",
       "      <th>count</th>\n",
       "      <td>6335.000000</td>\n",
       "    </tr>\n",
       "    <tr>\n",
       "      <th>mean</th>\n",
       "      <td>5280.415627</td>\n",
       "    </tr>\n",
       "    <tr>\n",
       "      <th>std</th>\n",
       "      <td>3038.503953</td>\n",
       "    </tr>\n",
       "    <tr>\n",
       "      <th>min</th>\n",
       "      <td>2.000000</td>\n",
       "    </tr>\n",
       "    <tr>\n",
       "      <th>25%</th>\n",
       "      <td>2674.500000</td>\n",
       "    </tr>\n",
       "    <tr>\n",
       "      <th>50%</th>\n",
       "      <td>5271.000000</td>\n",
       "    </tr>\n",
       "    <tr>\n",
       "      <th>75%</th>\n",
       "      <td>7901.000000</td>\n",
       "    </tr>\n",
       "    <tr>\n",
       "      <th>max</th>\n",
       "      <td>10557.000000</td>\n",
       "    </tr>\n",
       "  </tbody>\n",
       "</table>\n",
       "</div>"
      ],
      "text/plain": [
       "         Unnamed: 0\n",
       "count   6335.000000\n",
       "mean    5280.415627\n",
       "std     3038.503953\n",
       "min        2.000000\n",
       "25%     2674.500000\n",
       "50%     5271.000000\n",
       "75%     7901.000000\n",
       "max    10557.000000"
      ]
     },
     "execution_count": 4,
     "metadata": {},
     "output_type": "execute_result"
    }
   ],
   "source": [
    "df.describe()"
   ]
  },
  {
   "cell_type": "code",
   "execution_count": 5,
   "id": "6b8e9b53",
   "metadata": {},
   "outputs": [],
   "source": [
    "#dropping fist column not much useful information from the column\n",
    "df.drop(\"Unnamed: 0\", axis=1, inplace=True)"
   ]
  },
  {
   "cell_type": "code",
   "execution_count": 6,
   "id": "d9b90860",
   "metadata": {},
   "outputs": [
    {
     "data": {
      "text/plain": [
       "title    False\n",
       "text     False\n",
       "label    False\n",
       "dtype: bool"
      ]
     },
     "execution_count": 6,
     "metadata": {},
     "output_type": "execute_result"
    }
   ],
   "source": [
    "#checking null values in dataframe\n",
    "df.isna().any()"
   ]
  },
  {
   "cell_type": "markdown",
   "id": "8aa82e12",
   "metadata": {},
   "source": [
    "---"
   ]
  },
  {
   "cell_type": "code",
   "execution_count": 7,
   "id": "ad6f129e",
   "metadata": {},
   "outputs": [
    {
     "name": "stdout",
     "output_type": "stream",
     "text": [
      "<class 'pandas.core.frame.DataFrame'>\n",
      "RangeIndex: 6335 entries, 0 to 6334\n",
      "Data columns (total 3 columns):\n",
      " #   Column  Non-Null Count  Dtype \n",
      "---  ------  --------------  ----- \n",
      " 0   title   6335 non-null   object\n",
      " 1   text    6335 non-null   object\n",
      " 2   label   6335 non-null   object\n",
      "dtypes: object(3)\n",
      "memory usage: 148.6+ KB\n"
     ]
    }
   ],
   "source": [
    "df.info()"
   ]
  },
  {
   "cell_type": "code",
   "execution_count": 8,
   "id": "70af022a",
   "metadata": {},
   "outputs": [
    {
     "data": {
      "text/plain": [
       "REAL    3171\n",
       "FAKE    3164\n",
       "Name: label, dtype: int64"
      ]
     },
     "execution_count": 8,
     "metadata": {},
     "output_type": "execute_result"
    }
   ],
   "source": [
    "df['label'].value_counts()"
   ]
  },
  {
   "cell_type": "code",
   "execution_count": 9,
   "id": "f3f0594a",
   "metadata": {},
   "outputs": [
    {
     "data": {
      "image/png": "[encoded data removed]",
      "text/plain": [
       "<Figure size 432x288 with 1 Axes>"
      ]
     },
     "metadata": {
      "needs_background": "light"
     },
     "output_type": "display_data"
    }
   ],
   "source": [
    "sns.countplot(x='label', data=df, palette='Set3')\n",
    "plt.show()"
   ]
  },
  {
   "cell_type": "code",
   "execution_count": 10,
   "id": "da3db99f",
   "metadata": {},
   "outputs": [],
   "source": [
    "def clean_text(text):\n",
    "    \n",
    "    #remove html tags \n",
    "    text=re.sub(r'<.*?>','',text)\n",
    "    \n",
    "    # remove the characters [\\], ['],[] and [\"]\n",
    "    text = re.sub(r\"\\\\\", \"\", text)    \n",
    "    text = re.sub(r\"\\'\", \"\", text)    \n",
    "    text = re.sub(r\"\\\"\", \"\", text)   \n",
    "    text = re.sub(r\"\\—\", \"\", text)  \n",
    "    \n",
    "    # convert text to lowercase\n",
    "    text = text.strip().lower()\n",
    "    \n",
    "    # replace punctuation characters with spaces\n",
    "    filters='!\"\\'#$%&()*+,-./:;<=>?@[\\\\]^_`{|}~\\t\\n'\n",
    "    translate_dict = dict((c, \" \") for c in filters)\n",
    "    translate_map = str.maketrans(translate_dict)\n",
    "    text = text.translate(translate_map)\n",
    "    \n",
    "    return text"
   ]
  },
  {
   "cell_type": "code",
   "execution_count": 11,
   "id": "9a38ddf4",
   "metadata": {},
   "outputs": [
    {
     "data": {
      "text/html": [
       "<div>\n",
       "<style scoped>\n",
       "    .dataframe tbody tr th:only-of-type {\n",
       "        vertical-align: middle;\n",
       "    }\n",
       "\n",
       "    .dataframe tbody tr th {\n",
       "        vertical-align: top;\n",
       "    }\n",
       "\n",
       "    .dataframe thead th {\n",
       "        text-align: right;\n",
       "    }\n",
       "</style>\n",
       "<table border=\"1\" class=\"dataframe\">\n",
       "  <thead>\n",
       "    <tr style=\"text-align: right;\">\n",
       "      <th></th>\n",
       "      <th>title</th>\n",
       "      <th>text</th>\n",
       "      <th>label</th>\n",
       "    </tr>\n",
       "  </thead>\n",
       "  <tbody>\n",
       "    <tr>\n",
       "      <th>0</th>\n",
       "      <td>You Can Smell Hillary’s Fear</td>\n",
       "      <td>Daniel Greenfield, a Shillman Journalism Fello...</td>\n",
       "      <td>0</td>\n",
       "    </tr>\n",
       "    <tr>\n",
       "      <th>1</th>\n",
       "      <td>Watch The Exact Moment Paul Ryan Committed Pol...</td>\n",
       "      <td>Google Pinterest Digg Linkedin Reddit Stumbleu...</td>\n",
       "      <td>0</td>\n",
       "    </tr>\n",
       "    <tr>\n",
       "      <th>2</th>\n",
       "      <td>Kerry to go to Paris in gesture of sympathy</td>\n",
       "      <td>U.S. Secretary of State John F. Kerry said Mon...</td>\n",
       "      <td>1</td>\n",
       "    </tr>\n",
       "    <tr>\n",
       "      <th>3</th>\n",
       "      <td>Bernie supporters on Twitter erupt in anger ag...</td>\n",
       "      <td>— Kaydee King (@KaydeeKing) November 9, 2016 T...</td>\n",
       "      <td>0</td>\n",
       "    </tr>\n",
       "    <tr>\n",
       "      <th>4</th>\n",
       "      <td>The Battle of New York: Why This Primary Matters</td>\n",
       "      <td>It's primary day in New York and front-runners...</td>\n",
       "      <td>1</td>\n",
       "    </tr>\n",
       "  </tbody>\n",
       "</table>\n",
       "</div>"
      ],
      "text/plain": [
       "                                               title  \\\n",
       "0                       You Can Smell Hillary’s Fear   \n",
       "1  Watch The Exact Moment Paul Ryan Committed Pol...   \n",
       "2        Kerry to go to Paris in gesture of sympathy   \n",
       "3  Bernie supporters on Twitter erupt in anger ag...   \n",
       "4   The Battle of New York: Why This Primary Matters   \n",
       "\n",
       "                                                text  label  \n",
       "0  Daniel Greenfield, a Shillman Journalism Fello...      0  \n",
       "1  Google Pinterest Digg Linkedin Reddit Stumbleu...      0  \n",
       "2  U.S. Secretary of State John F. Kerry said Mon...      1  \n",
       "3  — Kaydee King (@KaydeeKing) November 9, 2016 T...      0  \n",
       "4  It's primary day in New York and front-runners...      1  "
      ]
     },
     "execution_count": 11,
     "metadata": {},
     "output_type": "execute_result"
    }
   ],
   "source": [
    "label_dict= {'REAL':1,\"FAKE\":0}\n",
    "df[\"label\"]=df[\"label\"].map(label_dict)\n",
    "\n",
    "df.head()"
   ]
  },
  {
   "cell_type": "code",
   "execution_count": 12,
   "id": "f73b24d9",
   "metadata": {},
   "outputs": [],
   "source": [
    "df[\"title\"] = df[\"title\"].apply(lambda x: clean_text(x))\n",
    "df[\"text\"] = df[\"text\"].apply(lambda x: clean_text(x))"
   ]
  },
  {
   "cell_type": "code",
   "execution_count": 13,
   "id": "f3b42ade",
   "metadata": {},
   "outputs": [
    {
     "data": {
      "text/html": [
       "<div>\n",
       "<style scoped>\n",
       "    .dataframe tbody tr th:only-of-type {\n",
       "        vertical-align: middle;\n",
       "    }\n",
       "\n",
       "    .dataframe tbody tr th {\n",
       "        vertical-align: top;\n",
       "    }\n",
       "\n",
       "    .dataframe thead th {\n",
       "        text-align: right;\n",
       "    }\n",
       "</style>\n",
       "<table border=\"1\" class=\"dataframe\">\n",
       "  <thead>\n",
       "    <tr style=\"text-align: right;\">\n",
       "      <th></th>\n",
       "      <th>title</th>\n",
       "      <th>text</th>\n",
       "      <th>label</th>\n",
       "    </tr>\n",
       "  </thead>\n",
       "  <tbody>\n",
       "    <tr>\n",
       "      <th>0</th>\n",
       "      <td>you can smell hillary’s fear</td>\n",
       "      <td>daniel greenfield  a shillman journalism fello...</td>\n",
       "      <td>0</td>\n",
       "    </tr>\n",
       "    <tr>\n",
       "      <th>1</th>\n",
       "      <td>watch the exact moment paul ryan committed pol...</td>\n",
       "      <td>google pinterest digg linkedin reddit stumbleu...</td>\n",
       "      <td>0</td>\n",
       "    </tr>\n",
       "    <tr>\n",
       "      <th>2</th>\n",
       "      <td>kerry to go to paris in gesture of sympathy</td>\n",
       "      <td>u s  secretary of state john f  kerry said mon...</td>\n",
       "      <td>1</td>\n",
       "    </tr>\n",
       "    <tr>\n",
       "      <th>3</th>\n",
       "      <td>bernie supporters on twitter erupt in anger ag...</td>\n",
       "      <td>kaydee king   kaydeeking  november 9  2016 the...</td>\n",
       "      <td>0</td>\n",
       "    </tr>\n",
       "    <tr>\n",
       "      <th>4</th>\n",
       "      <td>the battle of new york  why this primary matters</td>\n",
       "      <td>its primary day in new york and front runners ...</td>\n",
       "      <td>1</td>\n",
       "    </tr>\n",
       "  </tbody>\n",
       "</table>\n",
       "</div>"
      ],
      "text/plain": [
       "                                               title  \\\n",
       "0                       you can smell hillary’s fear   \n",
       "1  watch the exact moment paul ryan committed pol...   \n",
       "2        kerry to go to paris in gesture of sympathy   \n",
       "3  bernie supporters on twitter erupt in anger ag...   \n",
       "4   the battle of new york  why this primary matters   \n",
       "\n",
       "                                                text  label  \n",
       "0  daniel greenfield  a shillman journalism fello...      0  \n",
       "1  google pinterest digg linkedin reddit stumbleu...      0  \n",
       "2  u s  secretary of state john f  kerry said mon...      1  \n",
       "3  kaydee king   kaydeeking  november 9  2016 the...      0  \n",
       "4  its primary day in new york and front runners ...      1  "
      ]
     },
     "execution_count": 13,
     "metadata": {},
     "output_type": "execute_result"
    }
   ],
   "source": [
    "df.head()"
   ]
  },
  {
   "cell_type": "markdown",
   "id": "d08f66f8",
   "metadata": {},
   "source": [
    "### Splitting the dataset"
   ]
  },
  {
   "cell_type": "code",
   "execution_count": 14,
   "id": "742b356e",
   "metadata": {},
   "outputs": [],
   "source": [
    "x_train, x_test,y_train, y_test=train_test_split(df[\"text\"], df.label, random_state=42, test_size=0.25)"
   ]
  },
  {
   "cell_type": "markdown",
   "id": "822b8f46",
   "metadata": {},
   "source": [
    "### TF-IDF Vectorizer"
   ]
  },
  {
   "cell_type": "code",
   "execution_count": 15,
   "id": "8082836d",
   "metadata": {},
   "outputs": [],
   "source": [
    "tfidf_vectorizer=CountVectorizer(stop_words=\"english\",\n",
    "                                max_df=0.8,\n",
    "                                ngram_range=(1,3),\n",
    "                                preprocessor=clean_text)\n",
    "\n",
    "tfidf_vectorizer_train=tfidf_vectorizer.fit_transform(x_train)\n",
    "tfidf_vectorizer_test=tfidf_vectorizer.transform(x_test)\n",
    "\n"
   ]
  },
  {
   "cell_type": "markdown",
   "id": "47eec71f",
   "metadata": {},
   "source": [
    "### Logistic Regression"
   ]
  },
  {
   "cell_type": "code",
   "execution_count": 16,
   "id": "a3de96e3",
   "metadata": {},
   "outputs": [
    {
     "data": {
      "text/plain": [
       "LogisticRegression()"
      ]
     },
     "execution_count": 16,
     "metadata": {},
     "output_type": "execute_result"
    }
   ],
   "source": [
    "### Logistic Regression\n",
    "from sklearn.linear_model import LogisticRegression\n",
    "\n",
    "LR=LogisticRegression()\n",
    "LR.fit(tfidf_vectorizer_train, y_train)\n"
   ]
  },
  {
   "cell_type": "code",
   "execution_count": 17,
   "id": "02f4ec44",
   "metadata": {},
   "outputs": [
    {
     "name": "stdout",
     "output_type": "stream",
     "text": [
      "Random Forest Accuracy: 92.3%\n"
     ]
    }
   ],
   "source": [
    "pred_lr=LR.predict(tfidf_vectorizer_test)\n",
    "score = accuracy_score(y_test,pred_lr)\n",
    "print(f'Random Forest Accuracy: {round(score*100,2)}%')"
   ]
  },
  {
   "cell_type": "code",
   "execution_count": 18,
   "id": "56f535a5",
   "metadata": {},
   "outputs": [
    {
     "name": "stdout",
     "output_type": "stream",
     "text": [
      "              precision    recall  f1-score   support\n",
      "\n",
      "           0       0.91      0.94      0.92       794\n",
      "           1       0.94      0.90      0.92       790\n",
      "\n",
      "    accuracy                           0.92      1584\n",
      "   macro avg       0.92      0.92      0.92      1584\n",
      "weighted avg       0.92      0.92      0.92      1584\n",
      "\n"
     ]
    }
   ],
   "source": [
    "print(classification_report(y_test, pred_lr))"
   ]
  },
  {
   "cell_type": "markdown",
   "id": "4cc82063",
   "metadata": {},
   "source": [
    "---"
   ]
  },
  {
   "cell_type": "markdown",
   "id": "04f624db",
   "metadata": {},
   "source": [
    "### Decision Tree Classification"
   ]
  },
  {
   "cell_type": "code",
   "execution_count": 19,
   "id": "dcaba1ee",
   "metadata": {},
   "outputs": [
    {
     "name": "stdout",
     "output_type": "stream",
     "text": [
      "Random Forest Accuracy: 82.7%\n"
     ]
    }
   ],
   "source": [
    "from sklearn.tree import DecisionTreeClassifier\n",
    "\n",
    "dt=DecisionTreeClassifier()\n",
    "dt.fit(tfidf_vectorizer_train, y_train)\n",
    "\n",
    "pred_dt=dt.predict(tfidf_vectorizer_test)\n",
    "score = accuracy_score(y_test,pred_dt)\n",
    "print(f'Random Forest Accuracy: {round(score*100,2)}%')"
   ]
  },
  {
   "cell_type": "code",
   "execution_count": 20,
   "id": "d673fe17",
   "metadata": {},
   "outputs": [
    {
     "name": "stdout",
     "output_type": "stream",
     "text": [
      "              precision    recall  f1-score   support\n",
      "\n",
      "           0       0.82      0.83      0.83       794\n",
      "           1       0.83      0.82      0.83       790\n",
      "\n",
      "    accuracy                           0.83      1584\n",
      "   macro avg       0.83      0.83      0.83      1584\n",
      "weighted avg       0.83      0.83      0.83      1584\n",
      "\n"
     ]
    }
   ],
   "source": [
    "print(classification_report(y_test, pred_dt))"
   ]
  },
  {
   "cell_type": "markdown",
   "id": "83cde8a4",
   "metadata": {},
   "source": [
    "### Gradient Boosting Classifier"
   ]
  },
  {
   "cell_type": "code",
   "execution_count": 21,
   "id": "0531470d",
   "metadata": {},
   "outputs": [
    {
     "name": "stdout",
     "output_type": "stream",
     "text": [
      "Random Forest Accuracy: 89.39%\n"
     ]
    }
   ],
   "source": [
    "from sklearn.ensemble import GradientBoostingClassifier\n",
    "GBC = GradientBoostingClassifier(random_state=0)\n",
    "GBC.fit(tfidf_vectorizer_train, y_train)\n",
    "pred_gbc=GBC.predict(tfidf_vectorizer_test)\n",
    "score = accuracy_score(y_test,pred_gbc)\n",
    "print(f'Random Forest Accuracy: {round(score*100,2)}%')"
   ]
  },
  {
   "cell_type": "code",
   "execution_count": 22,
   "id": "1578113c",
   "metadata": {},
   "outputs": [
    {
     "name": "stdout",
     "output_type": "stream",
     "text": [
      "              precision    recall  f1-score   support\n",
      "\n",
      "           0       0.88      0.91      0.90       794\n",
      "           1       0.91      0.88      0.89       790\n",
      "\n",
      "    accuracy                           0.89      1584\n",
      "   macro avg       0.89      0.89      0.89      1584\n",
      "weighted avg       0.89      0.89      0.89      1584\n",
      "\n"
     ]
    }
   ],
   "source": [
    "print(classification_report(y_test, pred_gbc))"
   ]
  },
  {
   "cell_type": "markdown",
   "id": "d5995b12",
   "metadata": {},
   "source": [
    "### Random Forest Classifier"
   ]
  },
  {
   "cell_type": "code",
   "execution_count": 23,
   "id": "ec61c861",
   "metadata": {},
   "outputs": [
    {
     "name": "stdout",
     "output_type": "stream",
     "text": [
      "Random Forest Accuracy: 89.39%\n",
      "              precision    recall  f1-score   support\n",
      "\n",
      "           0       0.89      0.88      0.89       794\n",
      "           1       0.88      0.89      0.89       790\n",
      "\n",
      "    accuracy                           0.89      1584\n",
      "   macro avg       0.89      0.89      0.89      1584\n",
      "weighted avg       0.89      0.89      0.89      1584\n",
      "\n"
     ]
    }
   ],
   "source": [
    "from sklearn.ensemble import RandomForestClassifier\n",
    "\n",
    "RFC = RandomForestClassifier(random_state=32)\n",
    "RFC.fit(tfidf_vectorizer_train, y_train)\n",
    "\n",
    "pred_rfc=RFC.predict(tfidf_vectorizer_test)\n",
    "score = accuracy_score(y_test,pred_gbc)\n",
    "print(f'Random Forest Accuracy: {round(score*100,2)}%')\n",
    "\n",
    "print(classification_report(y_test, pred_rfc))"
   ]
  },
  {
   "cell_type": "markdown",
   "id": "9427f692",
   "metadata": {},
   "source": [
    "### PassiveAggressiveClassifier"
   ]
  },
  {
   "cell_type": "code",
   "execution_count": 24,
   "id": "264951a3",
   "metadata": {},
   "outputs": [
    {
     "name": "stdout",
     "output_type": "stream",
     "text": [
      "Accuracy: 91.67%\n",
      "              precision    recall  f1-score   support\n",
      "\n",
      "           0       0.91      0.92      0.92       794\n",
      "           1       0.92      0.91      0.92       790\n",
      "\n",
      "    accuracy                           0.92      1584\n",
      "   macro avg       0.92      0.92      0.92      1584\n",
      "weighted avg       0.92      0.92      0.92      1584\n",
      "\n"
     ]
    }
   ],
   "source": [
    "\n",
    "pac=PassiveAggressiveClassifier(max_iter=50)\n",
    "pac.fit(tfidf_vectorizer_train,y_train)\n",
    "#DataFlair - Predict on the test set and calculate accuracy\n",
    "y_pred=pac.predict(tfidf_vectorizer_test)\n",
    "score=accuracy_score(y_test,y_pred)\n",
    "print(f'Accuracy: {round(score*100,2)}%')\n",
    "print(classification_report(y_test, y_pred))"
   ]
  },
  {
   "cell_type": "markdown",
   "id": "7fa3fe80",
   "metadata": {},
   "source": [
    "### Saving the model Pickle"
   ]
  },
  {
   "cell_type": "code",
   "execution_count": 25,
   "id": "f878ae69",
   "metadata": {},
   "outputs": [],
   "source": [
    "# loading library\n",
    "import pickle"
   ]
  },
  {
   "cell_type": "code",
   "execution_count": 26,
   "id": "dafee6b1",
   "metadata": {},
   "outputs": [],
   "source": [
    "# create an iterator object with write permission - model.pkl\n",
    "with open('fakenewsdetection_model.pkl', 'wb') as files:\n",
    "    pickle.dump(pac, files)"
   ]
  },
  {
   "cell_type": "code",
   "execution_count": 27,
   "id": "f07b410f",
   "metadata": {},
   "outputs": [],
   "source": [
    "### dumping scalar pickle\n",
    "with open(\"fakenewsdetection_scalar.pkl\",\"wb\") as files:\n",
    "    pickle.dump(tfidf_vectorizer, files)"
   ]
  },
  {
   "cell_type": "markdown",
   "id": "b438f31d",
   "metadata": {},
   "source": [
    "### Model Testing"
   ]
  },
  {
   "cell_type": "code",
   "execution_count": 28,
   "id": "06481a11",
   "metadata": {},
   "outputs": [],
   "source": [
    "def output_lable(n):\n",
    "    if n == 0:\n",
    "        return \"Fake News\"\n",
    "    elif n == 1:\n",
    "        return \"Not A Fake News\""
   ]
  },
  {
   "cell_type": "code",
   "execution_count": 29,
   "id": "e112e3ab",
   "metadata": {},
   "outputs": [],
   "source": [
    "def model_testing(text):\n",
    "    news={\"text\":[text]}\n",
    "    new_df=pd.DataFrame(news)\n",
    "    print(new_df)\n",
    "    new_df[\"text\"]= new_df[\"text\"].apply(lambda x: clean_text(x))\n",
    "    new_x_test=new_df[\"text\"]\n",
    "    new_x_test=tfidf_vectorizer.transform(new_x_test)\n",
    "    pred_LR=LR.predict(new_x_test)\n",
    "    pred_PAC=pac.predict(new_x_test)\n",
    "    return print(\"\\n\\nLR Prediction: {} \\n\\n PAC Prediction: {}\".format(output_lable(pred_LR[0]),output_lable(pred_PAC[0])))  "
   ]
  },
  {
   "cell_type": "code",
   "execution_count": 30,
   "id": "b367fb4d",
   "metadata": {},
   "outputs": [
    {
     "name": "stdout",
     "output_type": "stream",
     "text": [
      "test\n",
      "   text\n",
      "0  test\n",
      "\n",
      "\n",
      "LR Prediction: Fake News \n",
      "\n",
      " PAC Prediction: Fake News\n"
     ]
    }
   ],
   "source": [
    "news = str(input())\n",
    "model_testing(news)"
   ]
  },
  {
   "cell_type": "code",
   "execution_count": 32,
   "id": "6821143b",
   "metadata": {},
   "outputs": [
    {
     "data": {
      "text/plain": [
       "'u s  secretary of state john f  kerry said monday that he will stop in paris later this week  amid criticism that no top american officials attended sunday’s unity march against terrorism   kerry said he expects to arrive in paris thursday evening  as he heads home after a week abroad  he said he will fly to france at the conclusion of a series of meetings scheduled for thursday in sofia  bulgaria  he plans to meet the next day with foreign minister laurent fabius and president francois hollande  then return to washington   the visit by kerry  who has family and childhood ties to the country and speaks fluent french  could address some of the criticism that the united states snubbed france in its darkest hour in many years   the french press on monday was filled with questions about why neither president obama nor kerry attended sunday’s march  as about 40 leaders of other nations did  obama was said to have stayed away because his own security needs can be taxing on a country  and kerry had prior commitments   among roughly 40 leaders who did attend was israeli prime minister benjamin netanyahu  no stranger to intense security  who marched beside hollande through the city streets  the highest ranking u s  officials attending the march were jane hartley  the ambassador to france  and victoria nuland  the assistant secretary of state for european affairs  attorney general eric h  holder jr  was in paris for meetings with law enforcement officials but did not participate in the march   kerry spent sunday at a business summit hosted by india’s prime minister  narendra modi  the united states is eager for india to relax stringent laws that function as barriers to foreign investment and hopes modi’s government will act to open the huge indian market for more american businesses   in a news conference  kerry brushed aside criticism that the united states had not sent a more senior official to paris as “quibbling a little bit ” he noted that many staffers of the american embassy in paris attended the march  including the ambassador  he said he had wanted to be present at the march himself but could not because of his prior commitments in india   “but that is why i am going there on the way home  to make it crystal clear how passionately we feel about the events that have taken place there ” he said   “and i don’t think the people of france have any doubts about america’s understanding of what happened  of our personal sense of loss and our deep commitment to the people of france in this moment of trauma ”'"
      ]
     },
     "execution_count": 32,
     "metadata": {},
     "output_type": "execute_result"
    }
   ],
   "source": [
    "df.text[2]"
   ]
  },
  {
   "cell_type": "code",
   "execution_count": null,
   "id": "f4d500d8",
   "metadata": {},
   "outputs": [],
   "source": []
  }
 ],
 "metadata": {
  "kernelspec": {
   "display_name": "Python 3",
   "language": "python",
   "name": "python3"
  },
  "language_info": {
   "codemirror_mode": {
    "name": "ipython",
    "version": 3
   },
   "file_extension": ".py",
   "mimetype": "text/x-python",
   "name": "python",
   "nbconvert_exporter": "python",
   "pygments_lexer": "ipython3",
   "version": "3.8.8"
  }
 },
 "nbformat": 4,
 "nbformat_minor": 5
}
